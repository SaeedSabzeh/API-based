{
  "nbformat": 4,
  "nbformat_minor": 0,
  "metadata": {
    "colab": {
      "provenance": []
    },
    "kernelspec": {
      "name": "python3",
      "display_name": "Python 3"
    },
    "language_info": {
      "name": "python"
    }
  },
  "cells": [
    {
      "cell_type": "code",
      "source": [
        "import openai\n",
        "import pandas as pd\n",
        "import json"
      ],
      "metadata": {
        "id": "W8uZU7scMWV7"
      },
      "execution_count": 79,
      "outputs": []
    },
    {
      "cell_type": "code",
      "source": [
        "openai.api_key = \"API\""
      ],
      "metadata": {
        "id": "yDuFRDoKMWTm"
      },
      "execution_count": 86,
      "outputs": []
    },
    {
      "cell_type": "code",
      "source": [
        "def generate_synthetic_data(prompt):\n",
        "    response = openai.chat.completions.create(\n",
        "        model=\"gpt-4o-mini\",\n",
        "        messages=[{\"role\": \"system\", \"content\": system_prompt },\n",
        "                  {\"role\": \"user\", \"content\": prompt}],\n",
        "        response_format={\"type\":\"json_object\"}\n",
        "    )\n",
        "    generated_text = response.choices[0].message.content\n",
        "    return json.loads(generated_text)\n"
      ],
      "metadata": {
        "id": "GFgXoZHoMWQw"
      },
      "execution_count": 81,
      "outputs": []
    },
    {
      "cell_type": "code",
      "source": [
        "system_prompt = \"You are a random data generator. You are able to produce random data about random imagrnary people and their date of birth and their address. \"\n",
        "system_prompt += \"You should respond in JSON as in this example:\"\n",
        "system_prompt +=\"\"\"\n",
        "{\n",
        "    \"People\": [\n",
        "        {\"full name\": \"Saeed Sabzeh\" , \"date of birth\":  \" DD/MM/YY\" , \"Address\" : \"Tehran, amoozgar 2, 33\"},\n",
        "        ...\n",
        "    ]\n",
        "}\n",
        "\"\"\""
      ],
      "metadata": {
        "id": "TnHfbVTQRcEY"
      },
      "execution_count": 82,
      "outputs": []
    },
    {
      "cell_type": "code",
      "source": [
        "prompt = \" build a random data set for 20 people and their address and their date of birth. just respond with the JSON file\""
      ],
      "metadata": {
        "id": "5j_rFrQwMWNn"
      },
      "execution_count": 83,
      "outputs": []
    },
    {
      "cell_type": "code",
      "source": [
        "synthetic_data = generate_synthetic_data(prompt)"
      ],
      "metadata": {
        "id": "7QaSMtPjMWKx"
      },
      "execution_count": 84,
      "outputs": []
    },
    {
      "cell_type": "code",
      "source": [
        "synthetic_data"
      ],
      "metadata": {
        "colab": {
          "base_uri": "https://localhost:8080/"
        },
        "id": "FXDdPW0hOXMo",
        "outputId": "81567a86-22a6-461e-8430-03657353723c"
      },
      "execution_count": 85,
      "outputs": [
        {
          "output_type": "execute_result",
          "data": {
            "text/plain": [
              "{'People': [{'full name': 'Alice Johnson',\n",
              "   'date of birth': '12/03/90',\n",
              "   'Address': 'New York, 5th Ave, 101'},\n",
              "  {'full name': 'Brian Smith',\n",
              "   'date of birth': '22/07/85',\n",
              "   'Address': 'Los Angeles, Sunset Blvd, 202'},\n",
              "  {'full name': 'Catherine Brown',\n",
              "   'date of birth': '15/01/92',\n",
              "   'Address': 'Chicago, Wacker Dr, 303'},\n",
              "  {'full name': 'David Wilson',\n",
              "   'date of birth': '30/11/88',\n",
              "   'Address': 'Houston, Main St, 404'},\n",
              "  {'full name': 'Evelyn Davis',\n",
              "   'date of birth': '08/10/95',\n",
              "   'Address': 'Phoenix, Central Ave, 505'},\n",
              "  {'full name': 'Frank Thompson',\n",
              "   'date of birth': '25/05/84',\n",
              "   'Address': 'Philadelphia, Market St, 606'},\n",
              "  {'full name': 'Grace Anderson',\n",
              "   'date of birth': '01/02/91',\n",
              "   'Address': 'San Antonio, Navarro St, 707'},\n",
              "  {'full name': 'Henry Martinez',\n",
              "   'date of birth': '19/09/89',\n",
              "   'Address': 'San Diego, Balboa Park, 808'},\n",
              "  {'full name': 'Isabella Taylor',\n",
              "   'date of birth': '03/12/96',\n",
              "   'Address': 'Dallas, Elm St, 909'},\n",
              "  {'full name': 'Jacob Thompson',\n",
              "   'date of birth': '16/04/87',\n",
              "   'Address': 'San Jose, 1st St, 100'},\n",
              "  {'full name': 'Katherine White',\n",
              "   'date of birth': '07/08/83',\n",
              "   'Address': 'Austin, Congress Ave, 200'},\n",
              "  {'full name': 'Liam Harris',\n",
              "   'date of birth': '10/07/92',\n",
              "   'Address': 'Jacksonville, Bay St, 300'},\n",
              "  {'full name': 'Mia Clark',\n",
              "   'date of birth': '20/06/93',\n",
              "   'Address': 'San Francisco, Market St, 400'},\n",
              "  {'full name': 'Noah Lee',\n",
              "   'date of birth': '11/09/89',\n",
              "   'Address': 'Columbus, High St, 500'},\n",
              "  {'full name': 'Olivia Hall',\n",
              "   'date of birth': '27/01/94',\n",
              "   'Address': 'Charlotte, Trade St, 600'},\n",
              "  {'full name': 'Peter Allen',\n",
              "   'date of birth': '02/05/86',\n",
              "   'Address': 'Fort Worth, Main St, 700'},\n",
              "  {'full name': 'Quinn Wright',\n",
              "   'date of birth': '28/11/91',\n",
              "   'Address': 'Detroit, Woodward Ave, 800'},\n",
              "  {'full name': 'Riley King',\n",
              "   'date of birth': '14/10/88',\n",
              "   'Address': 'El Paso, Montana Ave, 900'},\n",
              "  {'full name': 'Sophia Scott',\n",
              "   'date of birth': '17/02/95',\n",
              "   'Address': 'Indianapolis, Meridian St, 1000'},\n",
              "  {'full name': 'Thomas Young',\n",
              "   'date of birth': '06/03/90',\n",
              "   'Address': 'Seattle, Pike St, 1100'}]}"
            ]
          },
          "metadata": {},
          "execution_count": 85
        }
      ]
    }
  ]
}