{
  "cells": [
    {
      "cell_type": "markdown",
      "source": [
        "An AI-powered assistant that interacts with users to provide bookstore-related services, including retrieving book prices and listing available books. The assistant leverages OpenAI's chat completions API and integrates dynamic tool handling for seamless responses to user queries."
      ],
      "metadata": {
        "id": "AeH5B1IjEO1d"
      },
      "id": "AeH5B1IjEO1d"
    },
    {
      "cell_type": "code",
      "execution_count": 3,
      "id": "8b50bbe2-c0b1-49c3-9a5c-1ba7efa2bcb4",
      "metadata": {
        "id": "8b50bbe2-c0b1-49c3-9a5c-1ba7efa2bcb4"
      },
      "outputs": [],
      "source": [
        "import os\n",
        "import json\n",
        "from openai import OpenAI"
      ]
    },
    {
      "cell_type": "code",
      "source": [
        "!pip install -q gradio"
      ],
      "metadata": {
        "colab": {
          "base_uri": "https://localhost:8080/"
        },
        "id": "mKQyi7Sq454B",
        "outputId": "5c8edf29-a870-4985-f206-6ebdc89f1797"
      },
      "id": "mKQyi7Sq454B",
      "execution_count": 4,
      "outputs": [
        {
          "output_type": "stream",
          "name": "stdout",
          "text": [
            "\u001b[2K   \u001b[90m━━━━━━━━━━━━━━━━━━━━━━━━━━━━━━━━━━━━━━━━\u001b[0m \u001b[32m57.2/57.2 MB\u001b[0m \u001b[31m17.3 MB/s\u001b[0m eta \u001b[36m0:00:00\u001b[0m\n",
            "\u001b[2K   \u001b[90m━━━━━━━━━━━━━━━━━━━━━━━━━━━━━━━━━━━━━━━━\u001b[0m \u001b[32m320.4/320.4 kB\u001b[0m \u001b[31m27.1 MB/s\u001b[0m eta \u001b[36m0:00:00\u001b[0m\n",
            "\u001b[2K   \u001b[90m━━━━━━━━━━━━━━━━━━━━━━━━━━━━━━━━━━━━━━━━\u001b[0m \u001b[32m94.8/94.8 kB\u001b[0m \u001b[31m8.9 MB/s\u001b[0m eta \u001b[36m0:00:00\u001b[0m\n",
            "\u001b[2K   \u001b[90m━━━━━━━━━━━━━━━━━━━━━━━━━━━━━━━━━━━━━━━━\u001b[0m \u001b[32m11.2/11.2 MB\u001b[0m \u001b[31m108.3 MB/s\u001b[0m eta \u001b[36m0:00:00\u001b[0m\n",
            "\u001b[2K   \u001b[90m━━━━━━━━━━━━━━━━━━━━━━━━━━━━━━━━━━━━━━━━\u001b[0m \u001b[32m73.2/73.2 kB\u001b[0m \u001b[31m7.1 MB/s\u001b[0m eta \u001b[36m0:00:00\u001b[0m\n",
            "\u001b[2K   \u001b[90m━━━━━━━━━━━━━━━━━━━━━━━━━━━━━━━━━━━━━━━━\u001b[0m \u001b[32m62.3/62.3 kB\u001b[0m \u001b[31m6.1 MB/s\u001b[0m eta \u001b[36m0:00:00\u001b[0m\n",
            "\u001b[?25h"
          ]
        }
      ]
    },
    {
      "cell_type": "code",
      "execution_count": 5,
      "id": "747e8786-9da8-4342-b6c9-f5f69c2e22ae",
      "metadata": {
        "id": "747e8786-9da8-4342-b6c9-f5f69c2e22ae"
      },
      "outputs": [],
      "source": [
        "import gradio as gr\n",
        "os.environ['OPENAI_API_KEY'] = os.getenv('OPENAI_API_KEY', 'API')\n",
        "MODEL = \"gpt-4o-mini\"\n",
        "openai = OpenAI()"
      ]
    },
    {
      "cell_type": "code",
      "execution_count": 66,
      "id": "0a521d84-d07c-49ab-a0df-d6451499ed97",
      "metadata": {
        "id": "0a521d84-d07c-49ab-a0df-d6451499ed97"
      },
      "outputs": [],
      "source": [
        "system_message = \"You are a helpful and kind assistant for an bookstore called BOOKNOW. \"\n",
        "system_message += \"you should ask questions to collect information and help them as best as you can. \"\n",
        "system_message += \"they will ask about a book if you have information about it, help them .Always be accurate. If you don't know the answer, say so.\""
      ]
    },
    {
      "cell_type": "code",
      "execution_count": 16,
      "id": "61a2a15d-b559-4844-b377-6bd5cb4949f6",
      "metadata": {
        "id": "61a2a15d-b559-4844-b377-6bd5cb4949f6"
      },
      "outputs": [],
      "source": [
        "def chat(message, history):\n",
        "    messages = [{\"role\": \"system\", \"content\": system_message}] + history + [{\"role\": \"user\", \"content\": message}]\n",
        "    response = openai.chat.completions.create(model=MODEL, messages=messages)\n",
        "    return response.choices[0].message.content\n"
      ]
    },
    {
      "cell_type": "code",
      "execution_count": 97,
      "id": "0696acb1-0b05-4dc2-80d5-771be04f1fb2",
      "metadata": {
        "id": "0696acb1-0b05-4dc2-80d5-771be04f1fb2"
      },
      "outputs": [],
      "source": [
        "books = {\n",
        "    \"To Kill a Mockingbird\": \"$15.99\",\n",
        "    \"1984\": \"$13.49\",\n",
        "    \"Pride and Prejudice\": \"$10.99\",\n",
        "    \"The Great Gatsby\": \"$14.99\",\n",
        "    \"Moby-Dick\": \"$17.50\",\n",
        "    \"The Catcher in the Rye\": \"$12.00\",\n",
        "    \"The Alchemist\": \"$11.99\",\n",
        "    \"Brave New World\": \"$13.75\",\n",
        "    \"The Lord of the Rings\": \"$25.00\",\n",
        "    \"Harry Potter and the Sorcerer’s Stone\": \"$19.99\",\n",
        "    \"The Kite Runner\": \"$14.25\",\n",
        "    \"Sapiens: A Brief History of Humankind\": \"$21.50\",\n",
        "    \"Becoming\": \"$18.00\",\n",
        "    \"The Power of Habit\": \"$16.49\",\n",
        "    \"Atomic Habits\": \"$18.75\",\n",
        "    \"Educated\": \"$15.49\",\n",
        "    \"The Silent Patient\": \"$12.99\",\n",
        "    \"The Subtle Art of Not Giving a F*ck\": \"$14.00\",\n",
        "    \"Thinking, Fast and Slow\": \"$22.50\",\n",
        "    \"The 7 Habits of Highly Effective People\": \"$19.49\"\n",
        "}\n",
        "\n",
        "def get_price(book):\n",
        "    print(f\"Tool get_price called for {book}\")\n",
        "    return books.get(book, 'Unknown')\n",
        "def avalible_books():\n",
        "    return list(books.keys())"
      ]
    },
    {
      "cell_type": "code",
      "execution_count": 99,
      "id": "80ca4e09-6287-4d3f-997d-fa6afbcf6c85",
      "metadata": {
        "colab": {
          "base_uri": "https://localhost:8080/",
          "height": 52
        },
        "id": "80ca4e09-6287-4d3f-997d-fa6afbcf6c85",
        "outputId": "a2171097-eb85-4eda-f589-7d94df49358b"
      },
      "outputs": [
        {
          "output_type": "stream",
          "name": "stdout",
          "text": [
            "Tool get_price called for The 7 Habits of Highly Effective People\n"
          ]
        },
        {
          "output_type": "execute_result",
          "data": {
            "text/plain": [
              "'$19.49'"
            ],
            "application/vnd.google.colaboratory.intrinsic+json": {
              "type": "string"
            }
          },
          "metadata": {},
          "execution_count": 99
        }
      ],
      "source": [
        "get_price(\"The 7 Habits of Highly Effective People\")"
      ]
    },
    {
      "cell_type": "code",
      "source": [
        "avalible_books()"
      ],
      "metadata": {
        "colab": {
          "base_uri": "https://localhost:8080/"
        },
        "id": "_w069M1eC7dE",
        "outputId": "24d7f43b-eaab-46d7-e859-e96fe1b3967c"
      },
      "id": "_w069M1eC7dE",
      "execution_count": 98,
      "outputs": [
        {
          "output_type": "execute_result",
          "data": {
            "text/plain": [
              "['To Kill a Mockingbird',\n",
              " '1984',\n",
              " 'Pride and Prejudice',\n",
              " 'The Great Gatsby',\n",
              " 'Moby-Dick',\n",
              " 'The Catcher in the Rye',\n",
              " 'The Alchemist',\n",
              " 'Brave New World',\n",
              " 'The Lord of the Rings',\n",
              " 'Harry Potter and the Sorcerer’s Stone',\n",
              " 'The Kite Runner',\n",
              " 'Sapiens: A Brief History of Humankind',\n",
              " 'Becoming',\n",
              " 'The Power of Habit',\n",
              " 'Atomic Habits',\n",
              " 'Educated',\n",
              " 'The Silent Patient',\n",
              " 'The Subtle Art of Not Giving a F*ck',\n",
              " 'Thinking, Fast and Slow',\n",
              " 'The 7 Habits of Highly Effective People']"
            ]
          },
          "metadata": {},
          "execution_count": 98
        }
      ]
    },
    {
      "cell_type": "code",
      "execution_count": 100,
      "id": "4afceded-7178-4c05-8fa6-9f2085e6a344",
      "metadata": {
        "id": "4afceded-7178-4c05-8fa6-9f2085e6a344"
      },
      "outputs": [],
      "source": [
        "price_function = {\n",
        "    \"name\": \"get_price\",\n",
        "    \"description\": \"Get the price of the book. Call this whenever you need to know the ticket price. for example when they say 'how much for the book'\",\n",
        "    \"parameters\": {\n",
        "        \"type\": \"object\",\n",
        "        \"properties\": {\n",
        "            \"book\": {\n",
        "                \"type\": \"string\",\n",
        "                \"description\": \"The book they want  price of\",\n",
        "            },\n",
        "        },\n",
        "        \"required\": [\"book\"],\n",
        "        \"additionalProperties\": False\n",
        "    }\n",
        "}\n",
        "avaliblality_function = {\n",
        "    \"name\": \"avalible_books\",\n",
        "    \"description\": \"Get the list of avalible books,ll this whenever you need to know what books are avalible at the store. you can check if a book is avalible or not by having all the books avalible\",\n",
        "    \"parameters\": {\n",
        "        \"type\": \"object\",\n",
        "        \"properties\": {},\n",
        "        \"required\": [],\n",
        "        \"additionalProperties\": False\n",
        "    }\n",
        "}"
      ]
    },
    {
      "cell_type": "code",
      "execution_count": 101,
      "id": "bdca8679-935f-4e7f-97e6-e71a4d4f228c",
      "metadata": {
        "id": "bdca8679-935f-4e7f-97e6-e71a4d4f228c"
      },
      "outputs": [],
      "source": [
        "tools = [{\"type\": \"function\", \"function\": price_function},\n",
        "         {\"type\": \"function\", \"function\": avaliblality_function}]"
      ]
    },
    {
      "cell_type": "code",
      "execution_count": 102,
      "id": "ce9b0744-9c78-408d-b9df-9f6fd9ed78cf",
      "metadata": {
        "id": "ce9b0744-9c78-408d-b9df-9f6fd9ed78cf"
      },
      "outputs": [],
      "source": [
        "def chat(message, history):\n",
        "    messages = [{\"role\": \"system\", \"content\": system_message}] + history + [{\"role\": \"user\", \"content\": message}]\n",
        "    response = openai.chat.completions.create(model=MODEL, messages=messages, tools=tools)\n",
        "\n",
        "    if response.choices[0].finish_reason==\"tool_calls\":\n",
        "        message = response.choices[0].message\n",
        "        response, book = handle_tool_call(message)\n",
        "        messages.append(message)\n",
        "        messages.append(response)\n",
        "        response = openai.chat.completions.create(model=MODEL, messages=messages)\n",
        "\n",
        "    return response.choices[0].message.content"
      ]
    },
    {
      "cell_type": "code",
      "execution_count": 103,
      "id": "b0992986-ea09-4912-a076-8e5603ee631f",
      "metadata": {
        "id": "b0992986-ea09-4912-a076-8e5603ee631f"
      },
      "outputs": [],
      "source": [
        "def handle_tool_call(message):\n",
        "    tool_call = message.tool_calls[0]\n",
        "    arguments = json.loads(tool_call.function.arguments)\n",
        "    tool_name = tool_call.function.name  # Identify which tool was called\n",
        "\n",
        "    if tool_name == \"get_price\":\n",
        "        book = arguments.get('book')\n",
        "        price = get_price(book)\n",
        "        content = {\"book\": book, \"price\": price}\n",
        "    elif tool_name == \"avalible_books\":\n",
        "        content = {\"available_books\": avalible_books()}\n",
        "    else:\n",
        "        content = {\"error\": f\"Tool {tool_name} is not supported.\"}\n",
        "\n",
        "    response = {\n",
        "        \"role\": \"tool\",\n",
        "        \"content\": json.dumps(content),\n",
        "        \"tool_call_id\": message.tool_calls[0].id\n",
        "    }\n",
        "    return response, content"
      ]
    },
    {
      "cell_type": "code",
      "execution_count": 104,
      "id": "f4be8a71-b19e-4c2f-80df-f59ff2661f14",
      "metadata": {
        "colab": {
          "base_uri": "https://localhost:8080/",
          "height": 645
        },
        "id": "f4be8a71-b19e-4c2f-80df-f59ff2661f14",
        "outputId": "7c6fcf0e-2242-4b2b-882a-42265770e136"
      },
      "outputs": [
        {
          "output_type": "stream",
          "name": "stdout",
          "text": [
            "Running Gradio in a Colab notebook requires sharing enabled. Automatically setting `share=True` (you can turn this off by setting `share=False` in `launch()` explicitly).\n",
            "\n",
            "Colab notebook detected. To show errors in colab notebook, set debug=True in launch()\n",
            "* Running on public URL: https://504a026cb6055a610b.gradio.live\n",
            "\n",
            "This share link expires in 72 hours. For free permanent hosting and GPU upgrades, run `gradio deploy` from the terminal in the working directory to deploy to Hugging Face Spaces (https://huggingface.co/spaces)\n"
          ]
        },
        {
          "output_type": "display_data",
          "data": {
            "text/plain": [
              "<IPython.core.display.HTML object>"
            ],
            "text/html": [
              "<div><iframe src=\"https://504a026cb6055a610b.gradio.live\" width=\"100%\" height=\"500\" allow=\"autoplay; camera; microphone; clipboard-read; clipboard-write;\" frameborder=\"0\" allowfullscreen></iframe></div>"
            ]
          },
          "metadata": {}
        },
        {
          "output_type": "execute_result",
          "data": {
            "text/plain": []
          },
          "metadata": {},
          "execution_count": 104
        }
      ],
      "source": [
        "gr.ChatInterface(fn=chat, type=\"messages\").launch()"
      ]
    },
    {
      "cell_type": "code",
      "execution_count": 14,
      "id": "11c9da69-d0cf-4cf2-a49e-e5669deec47b",
      "metadata": {
        "id": "11c9da69-d0cf-4cf2-a49e-e5669deec47b"
      },
      "outputs": [],
      "source": []
    }
  ],
  "metadata": {
    "kernelspec": {
      "display_name": "Python 3 (ipykernel)",
      "language": "python",
      "name": "python3"
    },
    "language_info": {
      "codemirror_mode": {
        "name": "ipython",
        "version": 3
      },
      "file_extension": ".py",
      "mimetype": "text/x-python",
      "name": "python",
      "nbconvert_exporter": "python",
      "pygments_lexer": "ipython3",
      "version": "3.11.10"
    },
    "colab": {
      "provenance": []
    }
  },
  "nbformat": 4,
  "nbformat_minor": 5
}