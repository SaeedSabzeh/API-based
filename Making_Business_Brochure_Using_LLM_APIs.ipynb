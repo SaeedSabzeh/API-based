{
  "cells": [
    {
      "cell_type": "code",
      "execution_count": 2,
      "id": "d5b08506-dc8b-4443-9201-5f1848161363",
      "metadata": {
        "id": "d5b08506-dc8b-4443-9201-5f1848161363"
      },
      "outputs": [],
      "source": [
        "import os\n",
        "import requests\n",
        "import json\n",
        "from typing import List\n",
        "from bs4 import BeautifulSoup\n",
        "from IPython.display import Markdown, display, update_display\n",
        "from openai import OpenAI"
      ]
    },
    {
      "cell_type": "code",
      "execution_count": 3,
      "id": "fc5d8880-f2ee-4c06-af16-ecbc0262af61",
      "metadata": {
        "id": "fc5d8880-f2ee-4c06-af16-ecbc0262af61"
      },
      "outputs": [],
      "source": [
        "# Initialize and constants\n",
        "os.environ['OPENAI_API_KEY'] = os.getenv('OPENAI_API_KEY', 'API') #PUT UR API HERE\n",
        "MODEL = 'gpt-4o-mini'\n",
        "openai = OpenAI()"
      ]
    },
    {
      "cell_type": "code",
      "execution_count": 4,
      "id": "106dd65e-90af-4ca8-86b6-23a41840645b",
      "metadata": {
        "id": "106dd65e-90af-4ca8-86b6-23a41840645b"
      },
      "outputs": [],
      "source": [
        "\n",
        "class Website:\n",
        "\n",
        "    url: str\n",
        "    title: str\n",
        "    body: str\n",
        "    links: List[str]\n",
        "    text: str\n",
        "\n",
        "    def __init__(self, url):\n",
        "        self.url = url\n",
        "        response = requests.get(url)\n",
        "        self.body = response.content\n",
        "        soup = BeautifulSoup(self.body, 'html.parser')\n",
        "        self.title = soup.title.string if soup.title else \"No title found\"\n",
        "        if soup.body:\n",
        "            for irrelevant in soup.body([\"script\", \"style\", \"img\", \"input\"]):\n",
        "                irrelevant.decompose()\n",
        "            self.text = soup.body.get_text(separator=\"\\n\", strip=True)\n",
        "        else:\n",
        "            self.text = \"\"\n",
        "        links = [link.get('href') for link in soup.find_all('a')]\n",
        "        self.links = [link for link in links if link]\n",
        "\n",
        "    def get_contents(self):\n",
        "        return f\"Webpage Title:\\n{self.title}\\nWebpage Contents:\\n{self.text}\\n\\n\""
      ]
    },
    {
      "cell_type": "code",
      "execution_count": 5,
      "id": "e30d8128-933b-44cc-81c8-ab4c9d86589a",
      "metadata": {
        "colab": {
          "base_uri": "https://localhost:8080/"
        },
        "id": "e30d8128-933b-44cc-81c8-ab4c9d86589a",
        "outputId": "d406b745-87e4-49af-914b-db514f4b55fe"
      },
      "outputs": [
        {
          "output_type": "stream",
          "name": "stdout",
          "text": [
            "Webpage Title:\n",
            "Twitch\n",
            "Webpage Contents:\n",
            "\n",
            "\n",
            "\n"
          ]
        }
      ],
      "source": [
        "ed = Website(\"https://www.twitch.tv\")\n",
        "print(ed.get_contents())"
      ]
    },
    {
      "cell_type": "code",
      "execution_count": 6,
      "id": "6957b079-0d96-45f7-a26a-3487510e9b35",
      "metadata": {
        "id": "6957b079-0d96-45f7-a26a-3487510e9b35"
      },
      "outputs": [],
      "source": [
        "link_system_prompt = \"You are provided with a list of links found on a webpage. \\\n",
        "You are able to decide which of the links would be most relevant to include in a brochure about the company, \\\n",
        "such as links to an About page, or a Company page, or Careers/Jobs pages.\\n\"\n",
        "link_system_prompt += \"You should respond in JSON as in this example:\"\n",
        "link_system_prompt += \"\"\"\n",
        "{\n",
        "    \"links\": [\n",
        "        {\"type\": \"about page\", \"url\": \"https://full.url/goes/here/about\"},\n",
        "        {\"type\": \"careers page\": \"url\": \"https://another.full.url/careers\"}\n",
        "    ]\n",
        "}\n",
        "\"\"\""
      ]
    },
    {
      "cell_type": "code",
      "execution_count": 7,
      "id": "8e1f601b-2eaf-499d-b6b8-c99050c9d6b3",
      "metadata": {
        "id": "8e1f601b-2eaf-499d-b6b8-c99050c9d6b3"
      },
      "outputs": [],
      "source": [
        "def get_links_user_prompt(website):\n",
        "    user_prompt = f\"Here is the list of links on the website of {website.url} - \"\n",
        "    user_prompt += \"please decide which of these are relevant web links for a brochure about the company, respond with the full https URL in JSON format. \\\n",
        "Do not include Terms of Service, Privacy, email links.\\n\"\n",
        "    user_prompt += \"Links (some might be relative links):\\n\"\n",
        "    user_prompt += \"\\n\".join(website.links)\n",
        "    return user_prompt"
      ]
    },
    {
      "cell_type": "code",
      "execution_count": 9,
      "id": "a29aca19-ca13-471c-a4b4-5abbfa813f69",
      "metadata": {
        "id": "a29aca19-ca13-471c-a4b4-5abbfa813f69"
      },
      "outputs": [],
      "source": [
        "def get_links(url):\n",
        "    website = Website(url)\n",
        "    completion = openai.chat.completions.create(\n",
        "        model=MODEL,\n",
        "        messages=[\n",
        "            {\"role\": \"system\", \"content\": link_system_prompt},\n",
        "            {\"role\": \"user\", \"content\": get_links_user_prompt(website)}\n",
        "      ],\n",
        "        response_format={\"type\": \"json_object\"}\n",
        "    )\n",
        "    result = completion.choices[0].message.content\n",
        "    return json.loads(result)"
      ]
    },
    {
      "cell_type": "code",
      "execution_count": 10,
      "id": "d3d583e2-dcc4-40cc-9b28-1e8dbf402924",
      "metadata": {
        "colab": {
          "base_uri": "https://localhost:8080/"
        },
        "id": "d3d583e2-dcc4-40cc-9b28-1e8dbf402924",
        "outputId": "a4874e3f-6695-40f8-dbaa-27923394f28b"
      },
      "outputs": [
        {
          "output_type": "execute_result",
          "data": {
            "text/plain": [
              "{'links': [{'type': 'about page', 'url': 'https://www.twitch.tv/p/about'},\n",
              "  {'type': 'careers page', 'url': 'https://www.twitch.tv/jobs'}]}"
            ]
          },
          "metadata": {},
          "execution_count": 10
        }
      ],
      "source": [
        "get_links(\"https://www.twitch.tv\")"
      ]
    },
    {
      "cell_type": "code",
      "execution_count": 11,
      "id": "85a5b6e2-e7ef-44a9-bc7f-59ede71037b5",
      "metadata": {
        "id": "85a5b6e2-e7ef-44a9-bc7f-59ede71037b5"
      },
      "outputs": [],
      "source": [
        "def get_all_details(url):\n",
        "    result = \"Landing page:\\n\"\n",
        "    result += Website(url).get_contents()\n",
        "    links = get_links(url)\n",
        "    print(\"Found links:\", links)\n",
        "    for link in links[\"links\"]:\n",
        "        result += f\"\\n\\n{link['type']}\\n\"\n",
        "        result += Website(link[\"url\"]).get_contents()\n",
        "    return result"
      ]
    },
    {
      "cell_type": "code",
      "execution_count": 12,
      "id": "5099bd14-076d-4745-baf3-dac08d8e5ab2",
      "metadata": {
        "colab": {
          "base_uri": "https://localhost:8080/"
        },
        "id": "5099bd14-076d-4745-baf3-dac08d8e5ab2",
        "outputId": "ce7ebbf6-908b-42de-b6d4-966a03a70a4c"
      },
      "outputs": [
        {
          "output_type": "stream",
          "name": "stdout",
          "text": [
            "Found links: {'links': [{'type': 'about page', 'url': 'https://www.twitch.tv/p/about'}, {'type': 'careers page', 'url': 'https://www.twitch.tv/p/careers'}]}\n",
            "Landing page:\n",
            "Webpage Title:\n",
            "Twitch\n",
            "Webpage Contents:\n",
            "\n",
            "\n",
            "\n",
            "\n",
            "about page\n",
            "Webpage Title:\n",
            "Redirecting...\n",
            "Webpage Contents:\n",
            "Redirecting…\n",
            "Click here if you are not redirected.\n",
            "\n",
            "\n",
            "\n",
            "careers page\n",
            "Webpage Title:\n",
            "404 Not Found\n",
            "Webpage Contents:\n",
            "404 Not Found\n",
            "Code: NoSuchKey\n",
            "Message: The specified key does not exist.\n",
            "Key: p/careers\n",
            "RequestId: 9Q8JZZJKJQQXPF2Y\n",
            "HostId: 5o5sJUdj4Uxtksb9SOkxRvoBUCUunbC5jFfdzD2g9SoUcehrEb/dFToAMJnrPwyuKxMn+YEimQg=\n",
            "An Error Occurred While Attempting to Retrieve a Custom Error Document\n",
            "Code: NoSuchKey\n",
            "Message: The specified key does not exist.\n",
            "Key: index.html\n",
            "\n",
            "\n"
          ]
        }
      ],
      "source": [
        "print(get_all_details(\"https://www.twitch.tv\"))"
      ]
    },
    {
      "cell_type": "code",
      "execution_count": 13,
      "id": "9b863a55-f86c-4e3f-8a79-94e24c1a8cf2",
      "metadata": {
        "id": "9b863a55-f86c-4e3f-8a79-94e24c1a8cf2"
      },
      "outputs": [],
      "source": [
        "system_prompt = \"You are an assistant that analyzes the contents of several relevant pages from a company website \\\n",
        "and creates a short brochure about the company for prospective customers, investors and recruits. Respond in markdown.\\\n",
        "Include details of company culture, customers and careers/jobs if you have the information.\"\n"
      ]
    },
    {
      "cell_type": "code",
      "execution_count": 14,
      "id": "6ab83d92-d36b-4ce0-8bcc-5bb4c2f8ff23",
      "metadata": {
        "id": "6ab83d92-d36b-4ce0-8bcc-5bb4c2f8ff23"
      },
      "outputs": [],
      "source": [
        "def get_brochure_user_prompt(company_name, url):\n",
        "    user_prompt = f\"You are looking at a company called: {company_name}\\n\"\n",
        "    user_prompt += f\"Here are the contents of its landing page and other relevant pages; use this information to build a short brochure of the company in markdown.\\n\"\n",
        "    user_prompt += get_all_details(url)\n",
        "    user_prompt = user_prompt[:20_000]\n",
        "    return user_prompt"
      ]
    },
    {
      "cell_type": "code",
      "execution_count": 15,
      "id": "e44de579-4a1a-4e6a-a510-20ea3e4b8d46",
      "metadata": {
        "id": "e44de579-4a1a-4e6a-a510-20ea3e4b8d46"
      },
      "outputs": [],
      "source": [
        "def create_brochure(company_name, url):\n",
        "    response = openai.chat.completions.create(\n",
        "        model=MODEL,\n",
        "        messages=[\n",
        "            {\"role\": \"system\", \"content\": system_prompt},\n",
        "            {\"role\": \"user\", \"content\": get_brochure_user_prompt(company_name, url)}\n",
        "          ],\n",
        "    )\n",
        "    result = response.choices[0].message.content\n",
        "    display(Markdown(result))"
      ]
    },
    {
      "cell_type": "code",
      "execution_count": 16,
      "id": "e093444a-9407-42ae-924a-145730591a39",
      "metadata": {
        "colab": {
          "base_uri": "https://localhost:8080/",
          "height": 1000
        },
        "id": "e093444a-9407-42ae-924a-145730591a39",
        "outputId": "7d20b257-a7b9-44d7-b36a-45791fefc481"
      },
      "outputs": [
        {
          "output_type": "stream",
          "name": "stdout",
          "text": [
            "Found links: {'links': [{'type': 'about page', 'url': 'https://www.twitch.tv/p/about'}, {'type': 'careers page', 'url': 'https://www.twitch.tv/jobs'}, {'type': 'company page', 'url': 'https://www.twitch.tv/p/about#company'}]}\n"
          ]
        },
        {
          "output_type": "display_data",
          "data": {
            "text/plain": [
              "<IPython.core.display.Markdown object>"
            ],
            "text/markdown": "# Twitch Brochure\n\n---\n\n## Welcome to Twitch\n\nTwitch is the leading platform for live community engagement, connecting millions of creators and viewers around the world. Through innovative technology and passionate community support, we empower individuals to share their passions and connect through live entertainment.\n\n## Our Company Culture\n\nAt Twitch, we believe in the power of community, creativity, and inclusivity. Our team is built on the foundation of collaboration, diversity, and mutual respect. Every member of our team plays a vital role, and we are committed to creating an environment where everyone’s voice is heard.\n\n### Key Cultural Elements:\n- **Inclusivity**: We actively work to create an equitable workplace where everyone, regardless of background, feels welcome and valued.\n- **Innovation**: We embrace change and continuously strive for improvement, encouraging creative solutions to challenges.\n- **Community Focus**: We not only serve communities but are part of them, understanding the importance of real connections.\n\n## Our Customers\n\nTwitch caters to a vibrant global community of streamers and viewers, including gamers, musicians, artists, and creators from diverse fields. Our platform serves as a launchpad for creators to showcase their talent, engage with fans, and monetize their content through subscriptions, donations, and brand partnerships.\n\n### Notable Features:\n- **DJ Program**: A first-of-its-kind initiative allowing DJs to stream popular music safely and legally, helping them build and engage their communities.\n- **Mod Appreciation Day**: Celebrating the important role of moderators who help cultivate safe and welcoming environments for viewers.\n\n## Careers at Twitch\n\nIf you're passionate about creating connections and building tools for communities, Twitch is the place for you! We're always on the lookout for innovative thinkers to join our diverse team.\n\n### Opportunities for Growth:\n- **Early Career Programs**: Internships, apprenticeships, and programs for new graduates to kickstart your career in the tech and entertainment industries.\n- **Professional Development**: We offer workshops, mentorship programs, and a supportive environment for continuous learning.\n- **Flexible Work Arrangements**: Enjoy the benefits of remote work with a focus on wellness and work-life balance.\n\n### Benefits and Perks:\n- Competitive health and wellness programs\n- Paid parental leave\n- Opportunities for mentorship and career growth\n\n## Join Us!\n\nWe are on a mission to empower creators and build the future of live entertainment. With a commitment to community and inclusivity, Twitch is the place where you can make a real impact.\n\n**Visit us at [twitch.tv/careers](https://twitch.tv/careers) to learn more about job openings and our culture.**\n\n---\n\n**Follow Us:**\n- [Twitter](https://twitter.com/twitch)\n- [Facebook](https://facebook.com/twitch)\n- [Instagram](https://instagram.com/twitch)\n\nWe look forward to welcoming you to the Twitch community!"
          },
          "metadata": {}
        }
      ],
      "source": [
        "create_brochure(\"Twitch\", \"https://www.twitch.tv\")"
      ]
    },
    {
      "cell_type": "code",
      "execution_count": 17,
      "id": "51db0e49-f261-4137-aabe-92dd601f7725",
      "metadata": {
        "id": "51db0e49-f261-4137-aabe-92dd601f7725"
      },
      "outputs": [],
      "source": [
        "def stream_brochure(company_name, url):\n",
        "    stream = openai.chat.completions.create(\n",
        "        model=MODEL,\n",
        "        messages=[\n",
        "            {\"role\": \"system\", \"content\": system_prompt},\n",
        "            {\"role\": \"user\", \"content\": get_brochure_user_prompt(company_name, url)}\n",
        "          ],\n",
        "        stream=True\n",
        "    )\n",
        "\n",
        "    response = \"\"\n",
        "    display_handle = display(Markdown(\"\"), display_id=True)\n",
        "    for chunk in stream:\n",
        "        response += chunk.choices[0].delta.content or ''\n",
        "        response = response.replace(\"```\",\"\").replace(\"markdown\", \"\")\n",
        "        update_display(Markdown(response), display_id=display_handle.display_id)"
      ]
    },
    {
      "cell_type": "code",
      "execution_count": 18,
      "id": "56bf0ae3-ee9d-4a72-9cd6-edcac67ceb6d",
      "metadata": {
        "colab": {
          "base_uri": "https://localhost:8080/",
          "height": 778
        },
        "id": "56bf0ae3-ee9d-4a72-9cd6-edcac67ceb6d",
        "outputId": "6de81ace-d897-4d6c-db43-8653f140c9b4"
      },
      "outputs": [
        {
          "output_type": "stream",
          "name": "stdout",
          "text": [
            "Found links: {'links': [{'type': 'about page', 'url': 'https://www.twitch.tv/p/about'}, {'type': 'careers page', 'url': 'https://www.twitch.tv/jobs'}]}\n"
          ]
        },
        {
          "output_type": "display_data",
          "data": {
            "text/plain": [
              "<IPython.core.display.Markdown object>"
            ],
            "text/markdown": "\n# Welcome to Twitch\n\n## About Us\nAt **Twitch**, we're on a mission to empower and connect live communities on the internet. Whether through gaming, music, or creative content, we strive to create the future of live entertainment. Our platform serves millions of users worldwide, providing them with a space to share their passions and build vibrant communities. \n\n## Our Culture\nTwitch thrives on **diversity, collaboration, and inclusion**. We believe that our strength lies in our people, and we work hard to create a workplace where everyone feels valued and heard. Our initiatives around **Equity & Inclusion** highlight our commitment to fostering a welcoming environment for all employees. From employee-led Guilds to programs that encourage mentorship and community connection, we prioritize a supportive culture.\n\n### Employee Story\nZoe Willis from the Twitch Music Operations team shares, \"Being part of the Twitch family has empowered me to help artists build their communities while connecting with my colleagues through engaging events and initiatives.\" \n\n## Customers\nOur platform caters to a wide range of **communities**, from gamers to musicians and beyond. We create opportunities for creators to thrive, such as our innovative **DJ Program**, which facilitates safe and legal music streaming for DJs on Twitch. We also celebrate our moderating community's essential role, ensuring a welcoming atmosphere for all.\n\n## Careers at Twitch\nJoin our quest! At Twitch, we offer exciting career opportunities across various domains, including technology, marketing, and more. Our **Early Career Program** is designed for interns and recent grads to kickstart their careers in a dynamic environment. \n\n### Why Work for Twitch?\n- **Wellness Benefits**: We prioritize our employees' mental and physical wellness with robust health programs, flexible work policies, and paid parental leave.\n- **Development Opportunities**: We invest in our team with coaching, mentorship programs, and continuous learning opportunities.\n- **Remote-Friendly Work**: With global no-meeting days and modified work arrangements, you can create a work schedule that fits your needs.\n\n## Join Us\nExplore our current job openings and become a part of our vibrant community-building journey. Whether you're a seasoned professional or just starting out, there's a place for you at Twitch.\n\n**Visit us** at [Twitch Careers](https://www.twitch.tv) to learn more.\n\n---\n*Together, let's shape the future of live communities!*\n"
          },
          "metadata": {}
        }
      ],
      "source": [
        "stream_brochure(\"Twitch\", \"https://www.twitch.tv\")"
      ]
    },
    {
      "cell_type": "code",
      "execution_count": 19,
      "id": "fdb3f8d8-a3eb-41c8-b1aa-9f60686a653b",
      "metadata": {
        "colab": {
          "base_uri": "https://localhost:8080/",
          "height": 835
        },
        "id": "fdb3f8d8-a3eb-41c8-b1aa-9f60686a653b",
        "outputId": "664557d5-eca3-4ba3-9812-65f74cc32ee7"
      },
      "outputs": [
        {
          "output_type": "stream",
          "name": "stdout",
          "text": [
            "Found links: {'links': [{'type': 'about page', 'url': 'https://www.twitch.tv/p/about'}, {'type': 'careers page', 'url': 'https://www.twitch.tv/p/jobs'}, {'type': 'company page', 'url': 'https://www.twitch.tv/company'}]}\n"
          ]
        },
        {
          "output_type": "display_data",
          "data": {
            "text/plain": [
              "<IPython.core.display.Markdown object>"
            ],
            "text/markdown": "# Twitch Company Brochure\n\n## Welcome to Twitch\n\nTwitch is a leading interactive live streaming service, primarily focused on gaming, but expanding into music, creative arts, and sports. With millions of users interacting and engaging daily, Twitch has become a cornerstone of online entertainment and community building.\n\n---\n\n### About Twitch\n\nTwitch's mission is to empower creators and their communities. Our platform provides broadcasters with the tools they need to connect with their audience in real-time, fostering a unique environment that combines gaming, entertainment, and social interaction.\n\n---\n\n### Company Culture\n\nAt Twitch, we pride ourselves on our inclusive and diverse culture. We value creativity, collaboration, and innovation. Our team members are encouraged to pursue their passions, whether they be in gaming, technology, or other areas of interest. We believe in working hard and playing hard, which is reflected in our dynamic workplace and various employee initiatives.\n\n- **Inclusivity**: We celebrate diversity and strive to create an environment where everyone feels welcome.\n- **Collaboration**: Teamwork is at the heart of everything we do.\n- **Creativity**: We provide the freedom to explore new ideas and push boundaries.\n\n---\n\n### Our Customers\n\nTwitch serves a vast array of users, including:\n\n- **Gamers**: From casual players to professional esports athletes, Twitch offers a space to share gameplay and connect with others.\n- **Content Creators**: Musicians, artists, and other creatives can showcase their talent and build a community around their work.\n- **Viewers**: Anyone looking for live entertainment and the thrill of interactive experiences can find a niche on Twitch.\n\n---\n\n### Careers at Twitch\n\nTwitch is always looking for ambitious and talented individuals to join our innovative team. Explore career opportunities in various departments, including:\n\n- **Engineering**\n- **Content Creation**\n- **Marketing and Sales**\n- **Community Management**\n- **Design and User Experience**\n\nBy joining Twitch, you'll have the chance to work in a fast-paced environment and make a real impact in the world of live streaming and online entertainment.\n\nIf you're passionate about gaming, technology, and community, we want to hear from you!\n\n---\n\nFor more information about Twitch, including potential career opportunities, stay tuned to our website, where we'll provide forthcoming updates.\n\n*Join us in transforming the landscape of online entertainment.*"
          },
          "metadata": {}
        }
      ],
      "source": [
        "stream_brochure(\"Twitch\", \"https://www.twitch.tv\")"
      ]
    }
  ],
  "metadata": {
    "kernelspec": {
      "display_name": "Python 3 (ipykernel)",
      "language": "python",
      "name": "python3"
    },
    "language_info": {
      "codemirror_mode": {
        "name": "ipython",
        "version": 3
      },
      "file_extension": ".py",
      "mimetype": "text/x-python",
      "name": "python",
      "nbconvert_exporter": "python",
      "pygments_lexer": "ipython3",
      "version": "3.11.10"
    },
    "colab": {
      "provenance": []
    }
  },
  "nbformat": 4,
  "nbformat_minor": 5
}